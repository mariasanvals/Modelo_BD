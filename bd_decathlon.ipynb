{
 "cells": [
  {
   "cell_type": "code",
   "execution_count": 1,
   "metadata": {},
   "outputs": [],
   "source": [
    "import pandas as pd\n",
    "import sqlite3"
   ]
  },
  {
   "cell_type": "code",
   "execution_count": 7,
   "metadata": {},
   "outputs": [],
   "source": [
    "# Conexión a la base de datos y creacion implicta de la misma si no existiera previamente\n",
    "conexion = sqlite3.connect(\"./Decathlon.db\")\n",
    "cursor = conexion.cursor()"
   ]
  },
  {
   "cell_type": "code",
   "execution_count": 8,
   "metadata": {},
   "outputs": [
    {
     "data": {
      "text/plain": [
       "<sqlite3.Cursor at 0x134603ac0>"
      ]
     },
     "execution_count": 8,
     "metadata": {},
     "output_type": "execute_result"
    }
   ],
   "source": [
    "# Creamos las tablas necesarias\n",
    "query = '''\n",
    "CREATE TABLE PROVEEDOR (\n",
    "    ID_proveedor INTEGER PRIMARY KEY,\n",
    "    Nombre VARCHAR(50),\n",
    "    Direccion VARCHAR(120),\n",
    "    Ciudad VARCHAR(40),\n",
    "    Provincia VARCHAR,\n",
    "    CIF VARCHAR(10),\n",
    "    Telefono VARCHAR(15),\n",
    "    email VARCHAR(40)\n",
    "\n",
    ")\n",
    "'''\n",
    "cursor.execute(query)"
   ]
  },
  {
   "cell_type": "code",
   "execution_count": 9,
   "metadata": {},
   "outputs": [],
   "source": [
    "datos_proveedores = [\n",
    "    (1, \"Adidas\", \"Calle Deportes, 123\", \"Barcelona\", \"Barcelona\", \"A12345678\", \"+34 123 456 789\", \"contacto@adidas.com\"),\n",
    "    (2, \"Nike\", \"Avenida del Deporte, 456\", \"Madrid\", \"Comunidad de Madrid\", \"B87654321\", \"+34 987 654 321\", \"contacto@nike.com\"),\n",
    "    (3, \"Puma\", \"Calle Fitness, 789\", \"Valencia\", \"Valencia\", \"C56789012\", \"+34 234 567 890\", \"contacto@puma.es\"),\n",
    "    (4, \"Under Armour\", \"Carrera Extrema, 101\", \"Tarragona\", \"Barcelona\", \"D34567890\", \"+34 345 678 901\", \"contacto@underarmour.com\"),\n",
    "    (5, \"GymShark\", \"Paseo del Deporte, 555\", \"Oviedo\", \"Principado de Asturias\", \"E23456789\", \"+34 456 789 012\", \"contacto@gymshark.com\"),\n",
    "    (6, \"New Balance\", \"Plaza Deportiva, 222\", \"Plasencia\", \"Cáceres\", \"F45678901\", \"+34 567 890 123\", \"contacto@newbalance.com\"),\n",
    "    (7, \"North Face\", \"Avenida de la Aventura, 333\", \"Leganés\", \"Comunidad de Madrid\", \"G56789012\", \"+34 678 901 234\", \"contacto@northface.com\"),\n",
    "    (8, \"Deportes Pepito\", \"Calle Total, 444\", \"Novelda\", \"Alicante\", \"H67890123\", \"+34 789 012 345\", \"pepitodelospalotes1@gmail.es\"),\n",
    "]\n",
    "# Insertar datos en la tabla Proveedor\n",
    "insert_query = \"INSERT INTO Proveedor (ID_Proveedor, Nombre, Direccion, Ciudad, Provincia, CIF, Telefono, email) VALUES (?, ?, ?, ?, ?, ?, ?, ?)\"\n",
    "\n",
    "# Ejecutar la sentencia SQL para insertar los datos en la tabla\n",
    "cursor.executemany(insert_query, datos_proveedores)\n",
    "\n",
    "# Confirmar la transacción\n",
    "conexion.commit()"
   ]
  },
  {
   "cell_type": "code",
   "execution_count": 10,
   "metadata": {},
   "outputs": [
    {
     "data": {
      "text/plain": [
       "<sqlite3.Cursor at 0x134603ac0>"
      ]
     },
     "execution_count": 10,
     "metadata": {},
     "output_type": "execute_result"
    }
   ],
   "source": [
    "# Creamos la tabla Categoria\n",
    "query = '''\n",
    "CREATE TABLE CATEGORIA (\n",
    "    ID_categoria INTEGER PRIMARY KEY,\n",
    "    Nombre_Categoria VARCHAR)\n",
    "'''\n",
    "cursor.execute(query)"
   ]
  },
  {
   "cell_type": "code",
   "execution_count": 11,
   "metadata": {},
   "outputs": [],
   "source": [
    "# Datos de 20 categorías de tejidos\n",
    "datos_categorias = [\n",
    "    (1, 'Calzado deportivo'),\n",
    "    (2, 'Fitness'),\n",
    "    (3, 'Ciclismo'),\n",
    "    (4, 'Baloncesto'),\n",
    "    (5, 'Natación'),\n",
    "]\n",
    "insert_query_categorias = \"INSERT INTO Categoria (ID_Categoria, Nombre_Categoria) VALUES (?, ?)\"\n",
    "\n",
    "cursor.executemany(insert_query_categorias, datos_categorias)\n",
    "conexion.commit()"
   ]
  },
  {
   "cell_type": "code",
   "execution_count": 12,
   "metadata": {},
   "outputs": [
    {
     "data": {
      "text/plain": [
       "<sqlite3.Cursor at 0x134603ac0>"
      ]
     },
     "execution_count": 12,
     "metadata": {},
     "output_type": "execute_result"
    }
   ],
   "source": [
    "# Creamos la tabla Productos\n",
    "query = '''\n",
    "CREATE TABLE PRODUCTOS (\n",
    "    ID_Producto INTEGER PRIMARY KEY,\n",
    "    Nombre VARCHAR(40),\n",
    "    Color TEXT,\n",
    "    Precio FLOAT,\n",
    "    ID_Categoria INTEGER,\n",
    "    FOREIGN KEY (ID_Categoria) REFERENCES Categoria(ID_Categoria)\n",
    ")\n",
    "'''\n",
    "cursor.execute(query)"
   ]
  },
  {
   "cell_type": "code",
   "execution_count": 13,
   "metadata": {},
   "outputs": [],
   "source": [
    "datos_productos = [\n",
    "    (1, 'Balón de baloncesto', 'Naranja', 19.99, 4),\n",
    "    (2, 'Camiseta', 'Azul', 14.99, 2),\n",
    "    (3, 'Bicicleta normalita', 'Rosa', 209.99, 3),\n",
    "    (4, 'Bicicleta eléctrica de lujo', 'Negro', 1599.99, 3),\n",
    "    (5, 'Gorro de natación', 'Negro', 5.99, 5),\n",
    "    (6, 'Zapatillas Air', 'Amarillo', 109.99, 1),\n",
    "    (7, 'Alfombrilla de yoga', 'Azul', 14.99, 2),\n",
    "    (8, 'Mancuernas 8kg.', 'Negro', 39.99, 2),\n",
    "    (9, 'Zapatillas running', 'Verde', 89.99, 1),\n",
    "    (10, 'Canasta', 'Rojo', 249.99, 4),\n",
    "]\n",
    "insert_query_productos = \"INSERT INTO Productos (ID_Producto, Nombre, Color, Precio, ID_Categoria) VALUES (?, ?, ?, ?, ?)\"\n",
    "\n",
    "cursor.executemany(insert_query_productos, datos_productos)\n",
    "conexion.commit()"
   ]
  },
  {
   "cell_type": "code",
   "execution_count": 14,
   "metadata": {},
   "outputs": [
    {
     "data": {
      "text/plain": [
       "<sqlite3.Cursor at 0x134603ac0>"
      ]
     },
     "execution_count": 14,
     "metadata": {},
     "output_type": "execute_result"
    }
   ],
   "source": [
    "# Creamos la tabla Histórico Productos\n",
    "query = '''\n",
    "CREATE TABLE HISTORICO_PRODUCTOS (\n",
    "    Cantidad INTEGER,\n",
    "    Fecha DATE,\n",
    "    ID_Proveedor INTEGER,\n",
    "    ID_Producto INTEGER,\n",
    "    FOREIGN KEY (ID_Proveedor) REFERENCES Proveedor(ID_Proveedor),\n",
    "    FOREIGN KEY (ID_Producto) REFERENCES Productos(ID_Producto)\n",
    ")\n",
    "'''\n",
    "cursor.execute(query)"
   ]
  },
  {
   "cell_type": "code",
   "execution_count": 16,
   "metadata": {},
   "outputs": [],
   "source": [
    "datos_historico_productos = [\n",
    "    (100, \"2024-01-01\", 2, 2),\n",
    "    (150, \"2024-03-30\", 1, 2),\n",
    "    (130, \"2024-02-20\", 2, 4),\n",
    "    (200, \"2023-10-23\", 7, 3),\n",
    "    (400, \"2024-04-15\", 6, 7),\n",
    "    (140, \"2024-07-18\", 5, 8),\n",
    "    (50, \"2024-06-19\", 3, 9),\n",
    "    (140, \"2024-09-12\", 1, 10),\n",
    "    (120, \"2024-03-08\", 8, 3),\n",
    "    (190, \"2024-04-05\", 2, 1),\n",
    "    (180, \"2024-02-09\", 1, 4),\n",
    "    (300, \"2024-01-21\", 9, 7),\n",
    "    (200, \"2024-08-29\", 7, 6),\n",
    "    (30, \"2024-09-28\", 4, 4),\n",
    "    (40, \"2024-04-21\", 2, 9),\n",
    "    (70, \"2024-06-18\", 5, 3)\n",
    "]\n",
    "insert_query_historico_productos = \"INSERT INTO HISTORICO_PRODUCTOS (Cantidad, Fecha, ID_Proveedor, ID_Producto) VALUES (?, ?, ?, ?)\"\n",
    "\n",
    "cursor.executemany(insert_query_historico_productos, datos_historico_productos)\n",
    "conexion.commit()"
   ]
  },
  {
   "cell_type": "code",
   "execution_count": 17,
   "metadata": {},
   "outputs": [
    {
     "data": {
      "text/plain": [
       "<sqlite3.Cursor at 0x134603ac0>"
      ]
     },
     "execution_count": 17,
     "metadata": {},
     "output_type": "execute_result"
    }
   ],
   "source": [
    "query = \"\"\"\n",
    "CREATE TABLE FACTURAS (\n",
    "    Id_factura VARCHAR(12) PRIMARY KEY,\n",
    "    Id_proveedor VARCHAR(6),\n",
    "    Id_producto VARCHAR(3),\n",
    "    Precio FLOAT,\n",
    "    Cantidad INTEGER,\n",
    "    Fecha DATE,\n",
    "    Dirección_fiscal VARCHAR(120),\n",
    "    Ciudad VARCHAR(40),\n",
    "    Provincia VARCHAR(40),\n",
    "    Entregado BOOL,\n",
    "    Total_factura FLOAT,\n",
    "    FOREIGN KEY (Id_proveedor) REFERENCES PROVEEDOR(Id_proveedor)\n",
    "    FOREIGN KEY (Id_producto) REFERENCES PRODUCTOS(Id_producto)\n",
    ")\n",
    "\"\"\"\n",
    "cursor.execute(query)"
   ]
  },
  {
   "cell_type": "code",
   "execution_count": 18,
   "metadata": {},
   "outputs": [],
   "source": [
    "datos_facturas = [\n",
    "(1, 19.99, 1, '2024-03-20', 'Calle Sierpes, 4', 'Sevilla', 'Sevilla', True, 19.99, 1, 1),\n",
    "(2, 5.99, 3, '2024-03-02', 'Calle Deportes, 123', 'Barcelona', 'Barcelona', True, 17.97, 1, 5),\n",
    "(3, 19.99, 2, '2024-03-20', 'Calle Deportes, 123', 'Barcelona', 'Barcelona', True, 39.98, 1, 1),\n",
    "(4, 14.99, 3, '2024-03-19', 'Avenida del Deporte, 456', 'Madrid', 'Comunidad de Madrid', False, 44.97, 2, 7),\n",
    "(5, 209.99, 1, '2024-03-18', 'Calle Fitness, 789', 'Valencia', 'Valencia', True, 209.99, 3, 3),\n",
    "(6, 1599.99, 1, '2024-03-17', 'Carrera Extrema, 101', 'Tarragona', 'Barcelona', True, 1599.99, 4, 4),\n",
    "(7, 5.99, 2, '2024-03-16', 'Paseo del Deporte, 555', 'Oviedo', 'Principado de Asturias', False, 11.98, 5, 5),\n",
    "(8, 109.99, 1, '2024-03-15', 'Plaza Deportiva, 222', 'Plasencia', 'Cáceres', True, 109.99, 6, 6),\n",
    "(9, 14.99, 3, '2024-03-14', 'Avenida de la Aventura, 333', 'Leganés', 'Comunidad de Madrid', True, 44.97, 7, 7),\n",
    "(10, 39.99, 1, '2024-03-13', 'Calle Total, 444', 'Novelda', 'Alicante', False, 39.99, 8, 8),\n",
    "(11, 89.99, 2, '2024-03-12', 'Calle Deportes, 123', 'Barcelona', 'Barcelona', True, 179.98, 1, 9),\n",
    "(12, 249.99, 1, '2024-03-11', 'Avenida del Deporte, 456', 'Madrid', 'Comunidad de Madrid', False, 249.99, 2, 10)\n",
    "]\n",
    "\n",
    "insert_query_facturas = \"INSERT INTO FACTURAS (Id_factura, Precio, Cantidad, Fecha, Dirección_fiscal, Ciudad, Provincia, Entregado, Total_factura, Id_proveedor, Id_producto) VALUES (?,?,?,?,?,?,?,?,?,?,?)\"\n",
    "\n",
    "cursor.executemany(insert_query_facturas, datos_facturas)\n",
    "conexion.commit()"
   ]
  },
  {
   "cell_type": "code",
   "execution_count": 19,
   "metadata": {},
   "outputs": [
    {
     "data": {
      "text/plain": [
       "<sqlite3.Cursor at 0x134603ac0>"
      ]
     },
     "execution_count": 19,
     "metadata": {},
     "output_type": "execute_result"
    }
   ],
   "source": [
    "# Creamos la tabla Catalogo\n",
    "query = '''\n",
    "CREATE TABLE CATALOGO (\n",
    "    ID_Proveedor INTEGER,\n",
    "    ID_Producto INTEGER,\n",
    "    FOREIGN KEY (ID_Proveedor) REFERENCES Proveedor(ID_Proveedor),\n",
    "    FOREIGN KEY (ID_Producto) REFERENCES Productos(ID_Producto)\n",
    ")\n",
    "'''\n",
    "cursor.execute(query)"
   ]
  },
  {
   "cell_type": "code",
   "execution_count": 21,
   "metadata": {},
   "outputs": [],
   "source": [
    "datos_catalogo = [\n",
    "    (2,2),\n",
    "    (1,2),\n",
    "    (2,4),\n",
    "    (7,3),\n",
    "    (6,7),\n",
    "    (5,8),\n",
    "    (1,10)  \n",
    "]\n",
    "\n",
    "insert_query_catalogo = \"INSERT INTO CATALOGO (Id_Proveedor, ID_Producto) VALUES (?,?)\"\n",
    "\n",
    "cursor.executemany(insert_query_catalogo, datos_catalogo)\n",
    "conexion.commit()"
   ]
  },
  {
   "cell_type": "code",
   "execution_count": null,
   "metadata": {},
   "outputs": [],
   "source": [
    "query = '''\n",
    "SELECT *\n",
    "FROM Proveedor\n",
    "'''\n",
    "\n"
   ]
  }
 ],
 "metadata": {
  "kernelspec": {
   "display_name": "Python 3",
   "language": "python",
   "name": "python3"
  },
  "language_info": {
   "codemirror_mode": {
    "name": "ipython",
    "version": 3
   },
   "file_extension": ".py",
   "mimetype": "text/x-python",
   "name": "python",
   "nbconvert_exporter": "python",
   "pygments_lexer": "ipython3",
   "version": "3.12.1"
  }
 },
 "nbformat": 4,
 "nbformat_minor": 2
}
