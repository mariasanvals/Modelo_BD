{
 "cells": [
  {
   "cell_type": "code",
   "execution_count": null,
   "metadata": {},
   "outputs": [],
   "source": [
    "import pandas as pd\n",
    "import sqlite3"
   ]
  },
  {
   "cell_type": "code",
   "execution_count": null,
   "metadata": {},
   "outputs": [],
   "source": [
    "# Conexión a la base de datos y creacion implicta de la misma si no existiera previamente\n",
    "conexion = sqlite3.connect(\"C:/Users/Usuario/Desktop/Modelo_BD/Decathlon.db\")\n",
    "cursor = conexion.cursor()"
   ]
  },
  {
   "cell_type": "code",
   "execution_count": null,
   "metadata": {},
   "outputs": [],
   "source": [
    "# Creamos las tablas necesarias\n",
    "query = '''\n",
    "CREATE TABLE Proveedor (\n",
    "    ID_proveedor INTEGER PRIMARY KEY,\n",
    "    Nombre VARCHAR(50),\n",
    "    Direccion VARCHAR(120),\n",
    "    Ciudad VARCHAR(40),\n",
    "    Provincia VARCHAR,\n",
    "    CIF VARCHAR(10),\n",
    "    Telefono VARCHAR(15),\n",
    "    email VARCHAR(40)\n",
    "\n",
    ")\n",
    "'''\n",
    "cursor.execute(query)"
   ]
  },
  {
   "cell_type": "code",
   "execution_count": null,
   "metadata": {},
   "outputs": [],
   "source": [
    "datos_proveedores = [\n",
    "    (1, \"Adidas\", \"Calle Deportes, 123\", \"Barcelona\", \"Barcelona\", \"A12345678\", \"+34 123 456 789\", \"contacto@adidas.com\"),\n",
    "    (2, \"Nike\", \"Avenida del Deporte, 456\", \"Madrid\", \"Comunidad de Madrid\", \"B87654321\", \"+34 987 654 321\", \"contacto@nike.com\"),\n",
    "    (3, \"Puma\", \"Calle Fitness, 789\", \"Valencia\", \"Valencia\", \"C56789012\", \"+34 234 567 890\", \"contacto@puma.es\"),\n",
    "    (4, \"Under Armour\", \"Carrera Extrema, 101\", \"Tarragona\", \"Barcelona\", \"D34567890\", \"+34 345 678 901\", \"contacto@underarmour.com\"),\n",
    "    (5, \"GymShark\", \"Paseo del Deporte, 555\", \"Oviedo\", \"Principado de Asturias\", \"E23456789\", \"+34 456 789 012\", \"contacto@gymshark.com\"),\n",
    "    (6, \"New Balance\", \"Plaza Deportiva, 222\", \"Plasencia\", \"Cáceres\", \"F45678901\", \"+34 567 890 123\", \"contacto@newbalance.com\"),\n",
    "    (7, \"North Face\", \"Avenida de la Aventura, 333\", \"Leganés\", \"Comunidad de Madrid\", \"G56789012\", \"+34 678 901 234\", \"contacto@northface.com\"),\n",
    "    (8, \"Deportes Pepito\", \"Calle Total, 444\", \"Novelda\", \"Alicante\", \"H67890123\", \"+34 789 012 345\", \"pepitodelospalotes1@gmail.es\"),\n",
    "]\n",
    "# Insertar datos en la tabla Proveedor\n",
    "insert_query = \"INSERT INTO Proveedor (ID_Proveedor, Nombre, Direccion, Ciudad, Provincia, CIF, Telefono, email) VALUES (?, ?, ?, ?, ?, ?, ?, ?)\"\n",
    "\n",
    "# Ejecutar la sentencia SQL para insertar los datos en la tabla\n",
    "cursor.executemany(insert_query, datos_proveedores)\n",
    "\n",
    "# Confirmar la transacción\n",
    "conexion.commit()"
   ]
  },
  {
   "cell_type": "code",
   "execution_count": null,
   "metadata": {},
   "outputs": [],
   "source": [
    "# Creamos la tabla Categoria\n",
    "query = '''\n",
    "CREATE TABLE Categoria (\n",
    "    ID_categoria INTEGER PRIMARY KEY,\n",
    "    Nombre_Categoria VARCHAR)\n",
    "'''\n",
    "cursor.execute(query)"
   ]
  },
  {
   "cell_type": "code",
   "execution_count": null,
   "metadata": {},
   "outputs": [],
   "source": [
    "# Datos de 20 categorías de tejidos\n",
    "datos_categorias = [\n",
    "    (1, 'Calzado deportivo'),\n",
    "    (2, 'Fitness'),\n",
    "    (3, 'Ciclismo'),\n",
    "    (4, 'Baloncesto'),\n",
    "    (5, 'Natación'),\n",
    "]\n",
    "insert_query_categorias = \"INSERT INTO Categoria (ID_Categoria, Nombre_Categoria) VALUES (?, ?)\"\n",
    "\n",
    "cursor.executemany(insert_query_categorias, datos_categorias)\n",
    "conexion.commit()"
   ]
  },
  {
   "cell_type": "code",
   "execution_count": null,
   "metadata": {},
   "outputs": [],
   "source": [
    "# Creamos la tabla Producto\n",
    "query = '''\n",
    "CREATE TABLE Producto (\n",
    "    ID_Producto INTEGER PRIMARY KEY,\n",
    "    Nombre VARCHAR(40),\n",
    "    Color TEXT,\n",
    "    Precio FLOAT,\n",
    "    ID_Categoria INTEGER,\n",
    "    FOREIGN KEY (ID_Categoria) REFERENCES Categoria(ID_Categoria)\n",
    ")\n",
    "'''\n",
    "cursor.execute(query)"
   ]
  },
  {
   "cell_type": "code",
   "execution_count": null,
   "metadata": {},
   "outputs": [],
   "source": [
    "datos_productos = [\n",
    "    (1, 'Balón de baloncesto', 'Naranja', 19.99, 4),\n",
    "    (2, 'Camiseta', 'Azul', 14.99, 2),\n",
    "    (3, 'Bicicleta normalita', 'Rosa', 209.99, 3),\n",
    "    (4, 'Bicicleta eléctrica de lujo', 'Negro', 1599.99, 3),\n",
    "    (5, 'Gorro de natación', 'Negro', 5.99, 5),\n",
    "    (6, 'Zapatillas Air', 'Amarillo', 109.99, 1),\n",
    "    (7, 'Alfombrilla de yoga', 'Azul', 14.99, 2),\n",
    "    (8, 'Mancuernas 8kg.', 'Negro', 39.99, 2),\n",
    "    (9, 'Zapatillas running', 'Verde', 89.99, 1),\n",
    "    (10, 'Canasta', 'Rojo', 249.99, 4),\n",
    "]\n",
    "insert_query_productos = \"INSERT INTO Producto (ID_Producto, Nombre, Color, Precio, ID_Categoria) VALUES (?, ?, ?, ?, ?)\"\n",
    "\n",
    "cursor.executemany(insert_query_productos, datos_productos)\n",
    "conexion.commit()"
   ]
  }
 ],
 "metadata": {
  "language_info": {
   "name": "python"
  }
 },
 "nbformat": 4,
 "nbformat_minor": 2
}
